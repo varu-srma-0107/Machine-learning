{
  "nbformat": 4,
  "nbformat_minor": 0,
  "metadata": {
    "colab": {
      "provenance": [],
      "toc_visible": true,
      "mount_file_id": "11NgcqUdYPVPE74KlDreN1xeSIsO5EVrI",
      "authorship_tag": "ABX9TyPP13yK8PEquuL1Csnhc89F",
      "include_colab_link": true
    },
    "kernelspec": {
      "name": "python3",
      "display_name": "Python 3"
    },
    "language_info": {
      "name": "python"
    },
    "accelerator": "GPU",
    "gpuClass": "standard"
  },
  "cells": [
    {
      "cell_type": "markdown",
      "metadata": {
        "id": "view-in-github",
        "colab_type": "text"
      },
      "source": [
        "<a href=\"https://colab.research.google.com/github/varu-srma-0107/Machine-learning/blob/main/Mnist_resnet50.ipynb\" target=\"_parent\"><img src=\"https://colab.research.google.com/assets/colab-badge.svg\" alt=\"Open In Colab\"/></a>"
      ]
    },
    {
      "cell_type": "code",
      "execution_count": null,
      "metadata": {
        "id": "oRdYXxsCQ8aR"
      },
      "outputs": [],
      "source": [
        "import numpy as np \n",
        "import pandas as pd \n",
        "from keras.models import Sequential\n",
        "from keras.layers import Dense\n",
        "from keras.wrappers.scikit_learn import KerasClassifier\n",
        "from keras.utils import np_utils\n",
        "from sklearn.model_selection import cross_val_score\n",
        "from sklearn.model_selection import KFold\n",
        "from sklearn.preprocessing import OneHotEncoder\n",
        "import matplotlib.pyplot as plt\n",
        "import imageio\n",
        "\n",
        "\n",
        "import tensorflow as tf\n",
        "tf.config.run_functions_eagerly(True)\n",
        "from tensorflow import keras\n",
        "\n",
        "from fastai import *\n",
        "from fastai.vision import *\n",
        "from fastai.vision.all import *"
      ]
    },
    {
      "cell_type": "code",
      "source": [
        "df = pd.read_csv(\"/content/drive/MyDrive/Dataset/archive/mnist_train.csv\")"
      ],
      "metadata": {
        "id": "EpPtXeyKREaP"
      },
      "execution_count": null,
      "outputs": []
    },
    {
      "cell_type": "code",
      "source": [
        "df.shape"
      ],
      "metadata": {
        "colab": {
          "base_uri": "https://localhost:8080/"
        },
        "id": "X_00_qvLRICe",
        "outputId": "43d3314e-55d8-45c3-c732-146b1e96c93a"
      },
      "execution_count": null,
      "outputs": [
        {
          "output_type": "execute_result",
          "data": {
            "text/plain": [
              "(60000, 785)"
            ]
          },
          "metadata": {},
          "execution_count": 6
        }
      ]
    },
    {
      "cell_type": "code",
      "source": [
        "(X_train, y_train) , (X_test, y_test) = keras.datasets.mnist.load_data()"
      ],
      "metadata": {
        "colab": {
          "base_uri": "https://localhost:8080/"
        },
        "id": "TCR8bFSCZULK",
        "outputId": "e922d2e0-96a1-4e09-b54a-5fb219ee0829"
      },
      "execution_count": null,
      "outputs": [
        {
          "output_type": "stream",
          "name": "stdout",
          "text": [
            "Downloading data from https://storage.googleapis.com/tensorflow/tf-keras-datasets/mnist.npz\n",
            "11490434/11490434 [==============================] - 1s 0us/step\n"
          ]
        }
      ]
    },
    {
      "cell_type": "code",
      "source": [
        "X_train = np.array(X_train).reshape(-1,28, 28)\n",
        "y_train = np.array(y_train)"
      ],
      "metadata": {
        "id": "kDtpkWgvYthL"
      },
      "execution_count": null,
      "outputs": []
    },
    {
      "cell_type": "code",
      "source": [
        "print(X_train.shape)\n",
        "print(y_train.shape)"
      ],
      "metadata": {
        "colab": {
          "base_uri": "https://localhost:8080/"
        },
        "id": "vN9nUzELYtkC",
        "outputId": "54740fbf-0fe7-4e47-a982-53613f1722c7"
      },
      "execution_count": null,
      "outputs": [
        {
          "output_type": "stream",
          "name": "stdout",
          "text": [
            "(60000, 28, 28)\n",
            "(60000,)\n"
          ]
        }
      ]
    },
    {
      "cell_type": "code",
      "source": [
        "X_train = np.stack((X_train,)*3, axis=-1)"
      ],
      "metadata": {
        "id": "5qVIU6DxYtuc"
      },
      "execution_count": null,
      "outputs": []
    },
    {
      "cell_type": "code",
      "source": [
        "print(X_train.shape)"
      ],
      "metadata": {
        "colab": {
          "base_uri": "https://localhost:8080/"
        },
        "id": "i5xdyGo0Z0ZV",
        "outputId": "a504de89-d52c-47aa-8c99-d50166e99756"
      },
      "execution_count": null,
      "outputs": [
        {
          "output_type": "stream",
          "name": "stdout",
          "text": [
            "(60000, 28, 28, 3)\n"
          ]
        }
      ]
    },
    {
      "cell_type": "code",
      "source": [
        "def save_imgs(path:Path, data, labels):\n",
        "    for label in np.unique(labels):\n",
        "        (path/str(label)).mkdir(parents=True,exist_ok=True)\n",
        "    for i in range(len(data)):\n",
        "        if(len(labels)!=0):\n",
        "            imageio.imsave( str( path/str(labels[i])/(str(i)+'.jpg') ), data[i])\n",
        "        else:\n",
        "            imageio.imsave( str( path/(str(i)+'.jpg') ), data[i])"
      ],
      "metadata": {
        "id": "GmGz-nMHZ0dK"
      },
      "execution_count": null,
      "outputs": []
    },
    {
      "cell_type": "code",
      "source": [
        "save_imgs(Path('/data/digits'),X_train,y_train)"
      ],
      "metadata": {
        "id": "rK7cF4JLZ0hx"
      },
      "execution_count": null,
      "outputs": []
    },
    {
      "cell_type": "code",
      "source": [
        "print('total classes :', len(os.listdir('/data/digits')))\n",
        "print('Images with label 1: ', len(os.listdir('/data/digits/1')))\n",
        "\n",
        "print('Image names with label 1')\n",
        "print(os.listdir('/data/digits/1')[:10])"
      ],
      "metadata": {
        "colab": {
          "base_uri": "https://localhost:8080/"
        },
        "id": "whC1IU0EZ0lh",
        "outputId": "0e7d9d5e-e89d-4ccf-d4d8-91f52264b58b"
      },
      "execution_count": null,
      "outputs": [
        {
          "output_type": "stream",
          "name": "stdout",
          "text": [
            "total classes : 10\n",
            "Images with label 1:  6742\n",
            "Image names with label 1\n",
            "['46842.jpg', '45665.jpg', '32765.jpg', '16876.jpg', '31784.jpg', '42380.jpg', '5428.jpg', '39986.jpg', '6423.jpg', '51417.jpg']\n"
          ]
        }
      ]
    },
    {
      "cell_type": "code",
      "source": [
        "from tensorflow.keras.applications.resnet50 import ResNet50"
      ],
      "metadata": {
        "id": "Dt5K6PIFaqxM"
      },
      "execution_count": null,
      "outputs": []
    },
    {
      "cell_type": "code",
      "source": [
        "from tensorflow.keras.applications.resnet50 import preprocess_input\n",
        "import tensorflow as tf\n",
        "\n",
        "train_datagen=tf.keras.preprocessing.image.ImageDataGenerator(preprocessing_function=preprocess_input, validation_split=0.15)\n",
        "train_generator = train_datagen.flow_from_directory('/data/digits', class_mode='categorical', subset='training')\n",
        "valid_generator = train_datagen.flow_from_directory('/data/digits', class_mode='categorical', subset='validation')"
      ],
      "metadata": {
        "colab": {
          "base_uri": "https://localhost:8080/"
        },
        "id": "xlw4_HFPZ0pJ",
        "outputId": "bc0b8b3a-2571-4c13-86f2-b422ae57a2fa"
      },
      "execution_count": null,
      "outputs": [
        {
          "output_type": "stream",
          "name": "stdout",
          "text": [
            "Found 51005 images belonging to 10 classes.\n",
            "Found 8995 images belonging to 10 classes.\n"
          ]
        }
      ]
    },
    {
      "cell_type": "code",
      "source": [
        "x, y = train_generator[0]\n",
        "print(x.shape)\n",
        "print(y.shape)"
      ],
      "metadata": {
        "colab": {
          "base_uri": "https://localhost:8080/"
        },
        "id": "vr16rDobZ0wN",
        "outputId": "a515de6d-a121-4efa-e3e2-2b71d8e3b19a"
      },
      "execution_count": null,
      "outputs": [
        {
          "output_type": "stream",
          "name": "stdout",
          "text": [
            "(32, 256, 256, 3)\n",
            "(32, 10)\n"
          ]
        }
      ]
    },
    {
      "cell_type": "code",
      "source": [
        "plt.imshow(x[0])"
      ],
      "metadata": {
        "colab": {
          "base_uri": "https://localhost:8080/",
          "height": 304
        },
        "id": "BJOHWfKCRLgl",
        "outputId": "df9f2d6a-20cd-4ff0-d5d7-9ca5204ff021"
      },
      "execution_count": null,
      "outputs": [
        {
          "output_type": "stream",
          "name": "stderr",
          "text": [
            "WARNING:matplotlib.image:Clipping input data to the valid range for imshow with RGB data ([0..1] for floats or [0..255] for integers).\n"
          ]
        },
        {
          "output_type": "execute_result",
          "data": {
            "text/plain": [
              "<matplotlib.image.AxesImage at 0x7f6a4dbcfdc0>"
            ]
          },
          "metadata": {},
          "execution_count": 18
        },
        {
          "output_type": "display_data",
          "data": {
            "text/plain": [
              "<Figure size 432x288 with 1 Axes>"
            ],
            "image/png": "[encoded data removed]"
          },
          "metadata": {
            "needs_background": "light"
          }
        }
      ]
    },
    {
      "cell_type": "code",
      "source": [
        "resnet_weights_path = r'C:\\Users\\LENOVO\\Downloads\\resnet50_weights_tf_dim_ordering_tf_kernels_notop'"
      ],
      "metadata": {
        "id": "hHQ3mL9KRQmM"
      },
      "execution_count": null,
      "outputs": []
    },
    {
      "cell_type": "code",
      "source": [
        "from tensorflow.keras.applications.resnet50 import ResNet50\n",
        "model = Sequential()\n",
        "\n",
        "model.add(ResNet50(include_top = False, pooling = 'avg', weights = 'imagenet'))\n",
        "\n",
        "# 2nd layer as Dense for 2-class classification, i.e., dog or cat using SoftMax activation\n",
        "model.add(Dense(10, activation = 'softmax'))\n",
        "\n",
        "# Say not to train first layer (ResNet) model as it is already trained\n",
        "model.layers[0].trainable = False"
      ],
      "metadata": {
        "colab": {
          "base_uri": "https://localhost:8080/"
        },
        "id": "aNGMczvPRSzH",
        "outputId": "c2cb4fe7-55d7-4b42-dc4e-460f5fe51155"
      },
      "execution_count": null,
      "outputs": [
        {
          "output_type": "stream",
          "name": "stdout",
          "text": [
            "Downloading data from https://storage.googleapis.com/tensorflow/keras-applications/resnet/resnet50_weights_tf_dim_ordering_tf_kernels_notop.h5\n",
            "94765736/94765736 [==============================] - 3s 0us/step\n"
          ]
        }
      ]
    },
    {
      "cell_type": "code",
      "source": [
        "model.summary()"
      ],
      "metadata": {
        "colab": {
          "base_uri": "https://localhost:8080/"
        },
        "id": "ReIpCxydSbj2",
        "outputId": "4f05d1e6-9ca5-4d75-a9c3-8b4f606bcbf4"
      },
      "execution_count": null,
      "outputs": [
        {
          "output_type": "stream",
          "name": "stdout",
          "text": [
            "Model: \"sequential\"\n",
            "_________________________________________________________________\n",
            " Layer (type)                Output Shape              Param #   \n",
            "=================================================================\n",
            " resnet50 (Functional)       (None, 2048)              23587712  \n",
            "                                                                 \n",
            " dense (Dense)               (None, 10)                20490     \n",
            "                                                                 \n",
            "=================================================================\n",
            "Total params: 23,608,202\n",
            "Trainable params: 20,490\n",
            "Non-trainable params: 23,587,712\n",
            "_________________________________________________________________\n"
          ]
        }
      ]
    },
    {
      "cell_type": "code",
      "source": [
        "\n",
        "model.compile(optimizer='Adam', loss='categorical_crossentropy', metrics=['accuracy'])"
      ],
      "metadata": {
        "id": "pogHyw9jSeaJ"
      },
      "execution_count": null,
      "outputs": []
    },
    {
      "cell_type": "code",
      "source": [
        "model.fit_generator(generator=train_generator,epochs=10,validation_data=valid_generator)"
      ],
      "metadata": {
        "colab": {
          "base_uri": "https://localhost:8080/"
        },
        "id": "_PHvmVoXShtK",
        "outputId": "62a45dbe-3532-4d5e-8876-8eac0b7add16"
      },
      "execution_count": null,
      "outputs": [
        {
          "output_type": "stream",
          "name": "stdout",
          "text": [
            "Epoch 1/10\n"
          ]
        },
        {
          "output_type": "stream",
          "name": "stderr",
          "text": [
            "<ipython-input-23-d238ee210fa0>:1: UserWarning: `Model.fit_generator` is deprecated and will be removed in a future version. Please use `Model.fit`, which supports generators.\n",
            "  model.fit_generator(generator=train_generator,epochs=10,validation_data=valid_generator)\n",
            "/usr/local/lib/python3.8/dist-packages/tensorflow/python/data/ops/structured_function.py:264: UserWarning: Even though the `tf.config.experimental_run_functions_eagerly` option is set, this option does not apply to tf.data functions. To force eager execution of tf.data functions, please use `tf.data.experimental.enable_debug_mode()`.\n",
            "  warnings.warn(\n"
          ]
        },
        {
          "output_type": "stream",
          "name": "stdout",
          "text": [
            "1594/1594 [==============================] - 673s 418ms/step - loss: 0.3576 - accuracy: 0.9035 - val_loss: 0.1729 - val_accuracy: 0.9539\n",
            "Epoch 2/10\n",
            "1594/1594 [==============================] - 673s 422ms/step - loss: 0.1475 - accuracy: 0.9582 - val_loss: 0.1352 - val_accuracy: 0.9601\n",
            "Epoch 3/10\n",
            "1594/1594 [==============================] - 670s 420ms/step - loss: 0.1136 - accuracy: 0.9670 - val_loss: 0.1095 - val_accuracy: 0.9679\n",
            "Epoch 4/10\n",
            "1594/1594 [==============================] - 670s 420ms/step - loss: 0.0960 - accuracy: 0.9716 - val_loss: 0.1132 - val_accuracy: 0.9652\n",
            "Epoch 5/10\n",
            "1594/1594 [==============================] - 669s 420ms/step - loss: 0.0839 - accuracy: 0.9752 - val_loss: 0.0883 - val_accuracy: 0.9728\n",
            "Epoch 6/10\n",
            "1594/1594 [==============================] - 670s 421ms/step - loss: 0.0752 - accuracy: 0.9775 - val_loss: 0.0959 - val_accuracy: 0.9727\n",
            "Epoch 7/10\n",
            "1594/1594 [==============================] - 670s 420ms/step - loss: 0.0697 - accuracy: 0.9791 - val_loss: 0.0895 - val_accuracy: 0.9737\n",
            "Epoch 8/10\n",
            "1594/1594 [==============================] - 670s 420ms/step - loss: 0.0634 - accuracy: 0.9807 - val_loss: 0.0859 - val_accuracy: 0.9737\n",
            "Epoch 9/10\n",
            "1594/1594 [==============================] - 670s 420ms/step - loss: 0.0597 - accuracy: 0.9812 - val_loss: 0.0804 - val_accuracy: 0.9742\n",
            "Epoch 10/10\n",
            "1594/1594 [==============================] - 670s 420ms/step - loss: 0.0543 - accuracy: 0.9835 - val_loss: 0.0798 - val_accuracy: 0.9748\n"
          ]
        },
        {
          "output_type": "execute_result",
          "data": {
            "text/plain": [
              "<keras.callbacks.History at 0x7f6a4d8a6070>"
            ]
          },
          "metadata": {},
          "execution_count": 23
        }
      ]
    }
  ]
}